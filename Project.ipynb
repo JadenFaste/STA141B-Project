{
 "cells": [
  {
   "cell_type": "markdown",
   "metadata": {},
   "source": [
    "STA 141B Project - Impact of Social Media interactions with Spotify popularity\n",
    "\n",
    "1. Introduction\n",
    "2. Data Acquisiton \n",
    "3. Data Process \n",
    "4. Approach\n",
    "5. Data Analysis \n",
    "5b. General statistics \n",
    "5c. Data Analysis real \n",
    "6. Reports + visualization\n",
    "7. Dicussion \n",
    "8. "
   ]
  },
  {
   "cell_type": "code",
   "execution_count": 2,
   "metadata": {},
   "outputs": [
    {
     "name": "stdout",
     "output_type": "stream",
     "text": [
      "hi\n"
     ]
    }
   ],
   "source": [
    "print(\"hi\")"
   ]
  }
 ],
 "metadata": {
  "kernelspec": {
   "display_name": "Python 3",
   "language": "python",
   "name": "python3"
  },
  "language_info": {
   "codemirror_mode": {
    "name": "ipython",
    "version": 3
   },
   "file_extension": ".py",
   "mimetype": "text/x-python",
   "name": "python",
   "nbconvert_exporter": "python",
   "pygments_lexer": "ipython3",
   "version": "3.10.11"
  }
 },
 "nbformat": 4,
 "nbformat_minor": 2
}
