{
 "cells": [
  {
   "cell_type": "markdown",
   "metadata": {},
   "source": [
    "STA 141B Project - A comparison of an NBA player's on court preformance against the expectations of their contract\n",
    "\n",
    "1. Introduction\n",
    "2. Data Acquisiton \n",
    "3. Data Process \n",
    "4. Approach\n",
    "5. Data Analysis \n",
    "5b. General statistics \n",
    "5c. Data Analysis real \n",
    "6. Reports + visualization\n",
    "7. Dicussion \n",
    "8. "
   ]
  },
  {
   "cell_type": "markdown",
   "metadata": {},
   "source": [
    "1. Introduction\n",
    "The National Basketball Association (NBA) is the premiere American basketball league comprised of 30 teams from the United States and Canada. The NBA is known for having lucrative contracts that costs tens of millions of dollars per year for top players. When signing these players onto these lucrative contracts, they are typically given more money when the player is expected to have a bigger impact onto the team's preformance. This study aims to analyze the relationship between NBA players' salaries and their performance metrics, identify patterns and anomalies, calculate a metric to determine players who are undervalued and overvalued, and assess the implications of these findings on team and the NBA's economics"
   ]
  },
  {
   "cell_type": "markdown",
   "metadata": {},
   "source": [
    "2. Data acquisiton\n",
    "To access the general statistics about certain players, we pulled from a public API package that pulls from the NBA website (https://github.com/swar/nba_api?tab=readme-ov-file), we will also webscrape information on team's salary cap online (https://www.spotrac.com/nba/cap/). We can successfully scrape the NBA team salary cap using the below code. "
   ]
  },
  {
   "cell_type": "code",
   "execution_count": 2,
   "metadata": {},
   "outputs": [
    {
     "name": "stdout",
     "output_type": "stream",
     "text": [
      "    Rank                    Team   Win%  PlayersSigned  PlayersAvg Age     Total Cap    Cap Space* 1st ApronSpace 2nd ApronSpace Active CapAll Active CapTop 3     Dead Cap\n",
      "0      1               Utah Jazz  0.438             15            24.4  $130,557,411    $5,463,589    $40,773,098            NaN  $128,711,817     $66,152,629   $1,845,594\n",
      "1      2         Detroit Pistons  0.172             14            24.6  $135,598,371      $422,629    $35,247,629            NaN   $83,803,488     $42,031,943  $51,794,883\n",
      "2      3           Orlando Magic  0.569             15            24.3  $139,355,784   $-3,334,784            NaN            NaN  $130,964,229     $47,450,000            -\n",
      "3      4       San Antonio Spurs  0.215             15            22.7  $142,928,288   $-6,907,288    $29,416,585            NaN   $94,551,623     $44,260,680  $46,356,959\n",
      "4      5       Charlotte Hornets  0.246             15            24.5  $143,055,717   $-7,034,717    $34,913,527            NaN   $97,074,991     $40,305,635  $40,357,482\n",
      "5      6         Houston Rockets  0.453             15            26.5  $146,402,009  $-10,381,009    $24,443,991            NaN  $144,502,009     $76,033,971   $1,900,000\n",
      "6      7          Indiana Pacers  0.554             15            25.3  $146,429,278  $-10,408,278    $25,568,491            NaN  $126,826,533     $72,618,408  $17,800,976\n",
      "7      8        Sacramento Kings  0.571             15            26.5  $149,993,550  $-13,972,550            NaN            NaN  $146,424,481     $80,200,060   $3,569,069\n",
      "8      9           Atlanta Hawks  0.453             15            25.5  $156,139,798  $-20,118,798            NaN            NaN  $149,336,848     $80,769,506   $6,802,950\n",
      "9     10   Oklahoma City Thunder  0.703             15            24.9  $160,502,705  $-24,481,705    $10,843,295            NaN  $127,645,232     $81,984,025  $32,857,473\n",
      "10    11           Brooklyn Nets  0.400             15            24.8  $161,511,355  $-25,490,355            NaN            NaN  $140,996,256     $85,272,756  $11,947,602\n",
      "11    12         Toronto Raptors  0.354             15            25.9  $161,577,996  $-25,556,996     $8,935,920            NaN  $138,661,522     $65,383,929  $20,896,768\n",
      "12    13       Memphis Grizzlies  0.338             16            25.5  $162,375,297  $-26,354,297     $9,257,926            NaN  $135,556,783     $79,941,165  $25,016,745\n",
      "13    14         New York Knicks  0.578             14            27.0  $163,493,406  $-27,472,406     $8,102,594            NaN  $161,228,444     $74,573,546   $2,264,962\n",
      "14    15           Chicago Bulls  0.477             15            26.6  $166,105,211  $-30,084,211     $5,927,162    $16,375,162  $164,085,505     $89,129,337            -\n",
      "15    16     Cleveland Cavaliers  0.631             14            26.4  $169,957,138  $-33,936,138     $8,447,980            NaN  $159,895,526     $87,167,280   $4,002,494\n",
      "16    17  Portland Trail Blazers  0.281             15            24.1  $171,532,453  $-35,511,453     $7,010,066    $17,458,066  $157,605,999     $84,152,788   $6,283,504\n",
      "17    18        Dallas Mavericks  0.569             15            26.3  $174,321,021  $-38,300,021     $6,214,890    $16,662,890  $161,282,786     $94,998,985   $2,348,324\n",
      "18    19    New Orleans Pelicans  0.609             15            25.6  $175,690,588  $-39,669,588     $8,944,315            NaN  $163,221,267    $103,641,119     $180,418\n",
      "19    20      Philadelphia 76ers  0.563             13            28.7  $180,685,115  $-44,664,115     $6,770,907    $17,218,907  $160,978,282    $106,722,598   $2,335,781\n",
      "20    21              Miami Heat  0.547             15            27.9  $180,754,950  $-44,733,950            NaN     $5,598,168  $172,894,063    $104,784,020   $1,801,769\n",
      "21    22      Los Angeles Lakers  0.545             15            26.1  $182,033,999  $-46,012,999     $3,387,005    $13,835,005  $168,113,994    $105,515,123            -\n",
      "22    23          Denver Nuggets  0.692             15            26.6  $185,751,085  $-49,730,085            NaN     $4,703,802  $177,890,198    $114,827,600            -\n",
      "23    24      Washington Wizards  0.172             15            24.7  $186,226,141  $-50,205,141    $20,573,131            NaN  $130,656,996     $67,023,539  $13,886,706\n",
      "24    25          Boston Celtics  0.781             14            26.8  $187,419,467  $-51,398,467            NaN    $-5,705,032  $183,505,135    $105,477,967      $92,857\n",
      "25    26         Milwaukee Bucks  0.646             15            29.2  $188,285,708  $-52,264,708            NaN    $-1,778,269  $182,226,590    $120,601,156            -\n",
      "26    27            Phoenix Suns  0.585             14            28.6  $194,851,009  $-58,830,009            NaN    $-9,085,534  $188,220,814    $130,407,223   $2,808,720\n",
      "27    28  Minnesota Timberwolves  0.677             14            26.2  $197,933,440  $-61,912,440     $6,781,512    $17,229,512  $163,848,413    $101,376,200     $116,075\n",
      "28    29             LA Clippers  0.651             15            29.0  $202,068,913  $-66,047,913            NaN   $-17,255,207  $200,049,207    $126,960,763            -\n",
      "29    30   Golden State Warriors  0.531             14            27.4  $224,932,577  $-88,911,577            NaN   $-25,009,168  $206,803,168    $125,935,055            -\n"
     ]
    },
    {
     "name": "stderr",
     "output_type": "stream",
     "text": [
      "C:\\Users\\bober\\AppData\\Local\\Temp\\ipykernel_10164\\3423737245.py:24: FutureWarning: Passing literal html to 'read_html' is deprecated and will be removed in a future version. To read from a literal string, wrap it in a 'StringIO' object.\n",
      "  df = pd.read_html(str(table))[0]\n"
     ]
    }
   ],
   "source": [
    "import requests\n",
    "from bs4 import BeautifulSoup\n",
    "import pandas as pd\n",
    "# This code will allow us to find the cap space for the 24 season for all NBA teams\n",
    "pd.set_option('display.max_rows', None) \n",
    "pd.set_option('display.max_columns', None)  \n",
    "pd.set_option('display.width', 1000) \n",
    "\n",
    "# URL of the page\n",
    "url = 'https://www.spotrac.com/nba/cap/'\n",
    "\n",
    "# Send a GET request to the page\n",
    "response = requests.get(url)\n",
    "\n",
    "# Parse the HTML content of the page\n",
    "soup = BeautifulSoup(response.content, 'html.parser')\n",
    "\n",
    "# Grab Table\n",
    "table = soup.find('table', {'class': 'datatable'})\n",
    "\n",
    "# Pandas dataframe conversion\n",
    "df = pd.read_html(str(table))[0]\n",
    "\n",
    "print(df)"
   ]
  },
  {
   "cell_type": "markdown",
   "metadata": {},
   "source": [
    "As mentioned previously, we can also use the a public API called nba_api, which allows us to pull from the [NBA Website](https://www.nba.com/), which has publically available data on every player. Let's pull up up information on the current reigning MVP Joel Embiid of the philadelphia 76ers for his career statistics, current season statistics, and information on his contract with the 76ers currently. "
   ]
  },
  {
   "cell_type": "code",
   "execution_count": 8,
   "metadata": {},
   "outputs": [
    {
     "name": "stdout",
     "output_type": "stream",
     "text": [
      "Joel Embiid's Career Statistics:\n",
      "   PLAYER_ID SEASON_ID LEAGUE_ID     TEAM_ID TEAM_ABBREVIATION  PLAYER_AGE  GP  GS     MIN  FGM   FGA  FG_PCT  FG3M  FG3A  FG3_PCT  FTM  FTA  FT_PCT  OREB  DREB  REB  AST  STL  BLK  TOV   PF   PTS\n",
      "0     203954   2016-17        00  1610612755               PHI        23.0  31  31   786.0  200   429   0.466    36    98    0.367  191  244   0.783    61   182  243   66   27   76  117  112   627\n",
      "1     203954   2017-18        00  1610612755               PHI        24.0  63  63  1912.0  510  1056   0.483    66   214    0.308  359  467   0.769   143   547  690  199   40  111  234  209  1445\n",
      "2     203954   2018-19        00  1610612755               PHI        25.0  64  64  2154.0  580  1199   0.484    79   263    0.300  522  649   0.804   160   711  871  234   46  122  226  211  1761\n",
      "3     203954   2019-20        00  1610612755               PHI        26.0  51  51  1506.0  382   801   0.477    57   172    0.331  351  435   0.807   141   452  593  152   45   65  159  174  1172\n",
      "4     203954   2020-21        00  1610612755               PHI        27.0  51  51  1585.0  461   899   0.513    58   154    0.377  471  548   0.859   113   426  539  145   50   69  159  123  1451\n",
      "5     203954   2021-22        00  1610612755               PHI        28.0  68  68  2296.0  666  1334   0.499    93   251    0.371  654  803   0.814   146   650  796  284   77   99  214  181  2079\n",
      "6     203954   2022-23        00  1610612755               PHI        29.0  66  66  2284.0  728  1328   0.548    66   200    0.330  661  771   0.857   113   557  670  274   66  112  226  205  2183\n",
      "7     203954   2023-24        00  1610612755               PHI        29.0  34  34  1157.0  402   754   0.533    41   112    0.366  356  403   0.883    89   295  384  193   39   60  126   98  1201\n",
      "\n",
      "Joel Embiid's Current Season Statistics:\n",
      "   SEASON_ID  Player_ID     Game_ID     GAME_DATE      MATCHUP WL  MIN  FGM  FGA  FG_PCT  FG3M  FG3A  FG3_PCT  FTM  FTA  FT_PCT  OREB  DREB  REB  AST  STL  BLK  TOV  PF  PTS  PLUS_MINUS  VIDEO_AVAILABLE\n",
      "0      22023     203954  0022300673  JAN 30, 2024    PHI @ GSW  L   30    5   18   0.278     2     6    0.333    2    2   1.000     1     6    7    2    2    0    8   5   14         -21                1\n",
      "1      22023     203954  0022300627  JAN 25, 2024    PHI @ IND  L   31   11   20   0.550     2     4    0.500    7   10   0.700     1     6    7    3    0    0    2   1   31         -20                1\n",
      "2      22023     203954  0022300608  JAN 22, 2024  PHI vs. SAS  W   37   24   41   0.585     1     2    0.500   21   23   0.913     9     9   18    5    1    1    1   2   70          11                1\n",
      "3      22023     203954  0022300593  JAN 20, 2024    PHI @ CHA  W   37   11   23   0.478     0     1    0.000   11   12   0.917     1     9   10    5    0    3    3   2   33          -2                1\n",
      "4      22023     203954  0022300585  JAN 19, 2024    PHI @ ORL  W   31   12   22   0.545     1     2    0.500   11   11   1.000     1     6    7    2    4    0    1   1   36          12                1\n",
      "5      22023     203954  0022300566  JAN 16, 2024  PHI vs. DEN  W   39   13   22   0.591     3     6    0.500   12   15   0.800     1     6    7   10    0    1    3   4   41           0                1\n",
      "6      22023     203954  0022300555  JAN 15, 2024  PHI vs. HOU  W   31   12   21   0.571     1     5    0.200   16   17   0.941     2     8   10    3    1    1    2   5   41           7                1\n",
      "7      22023     203954  0022300483  JAN 05, 2024  PHI vs. NYK  L   36   10   23   0.435     1     1    1.000    9   12   0.750     3     7   10    3    1    3    6   3   30         -29                1\n",
      "8      22023     203954  0022300459  JAN 02, 2024  PHI vs. CHI  W   31   10   20   0.500     2     5    0.400    9   12   0.750     0    15   15   10    1    2    4   4   31          32                1\n",
      "9      22023     203954  0022300382  DEC 22, 2023  PHI vs. TOR  W   35   11   21   0.524     2     2    1.000    7    8   0.875     1     9   10    9    2    4    6   1   31           2                1\n",
      "10     22023     203954  0022300367  DEC 20, 2023  PHI vs. MIN  W   36   17   25   0.680     0     1    0.000   17   18   0.944     2    10   12    3    2    1    2   5   51           3                1\n",
      "11     22023     203954  0022300351  DEC 18, 2023  PHI vs. CHI  L   37   15   28   0.536     2     6    0.333    8    9   0.889     1    13   14    6    0    2    4   5   40          -5                1\n",
      "12     22023     203954  0022300335  DEC 16, 2023    PHI @ CHA  W   30   18   23   0.783     0     1    0.000    6    6   1.000     0    15   15    3    1    2    4   2   42          36                1\n",
      "13     22023     203954  0022300327  DEC 15, 2023  PHI vs. DET  W   29    9   19   0.474     2     3    0.667   15   16   0.938     0    13   13    2    2    4    4   2   35          28                1\n",
      "14     22023     203954  0022300310  DEC 13, 2023    PHI @ DET  W   31   14   24   0.583     1     3    0.333   12   12   1.000     4     7   11    5    2    0    2   1   41          27                1\n",
      "15     22023     203954  0022300295  DEC 11, 2023  PHI vs. WAS  W   30   14   20   0.700     2     5    0.400    4    4   1.000     0    11   11    6    2    1    7   4   34          30                1\n",
      "16     22023     203954  0022301218  DEC 08, 2023  PHI vs. ATL  W   36   12   24   0.500     1     3    0.333   13   15   0.867     4    10   14    3    1    4    2   1   38          16                1\n",
      "17     22023     203954  0022301208  DEC 06, 2023    PHI @ WAS  W   38   19   29   0.655     1     2    0.500   11   13   0.846     6     7   13    7    1    1    6   2   50           8                1\n",
      "18     22023     203954  0022300255  NOV 27, 2023  PHI vs. LAL  W   31    9   15   0.600     2     3    0.667   10   12   0.833     4     7   11   11    1    1    3   2   30          11                1\n",
      "19     22023     203954  0022300239  NOV 25, 2023    PHI @ OKC  W   37    8   18   0.444     0     4    0.000   19   21   0.905     4     7   11    9    1    4    4   5   35           7                1\n",
      "20     22023     203954  0022300040  NOV 21, 2023  PHI vs. CLE  L   41    9   21   0.429     1     3    0.333   13   16   0.813     3    10   13    5    2    5    6   6   32           3                1\n",
      "21     22023     203954  0022300208  NOV 19, 2023    PHI @ BKN  W   31   11   24   0.458     1     2    0.500    9   10   0.900     2    10   12    9    0    1    1   3   32          25                1\n",
      "22     22023     203954  0022300029  NOV 17, 2023    PHI @ ATL  W   37   10   19   0.526     1     3    0.333   11   11   1.000     2     5    7    8    2    0    4   3   32          16                1\n",
      "23     22023     203954  0022300194  NOV 15, 2023  PHI vs. BOS  L   34    8   16   0.500     0     2    0.000    4    4   1.000     3     6    9    7    1    0    2   3   20         -25                1\n",
      "24     22023     203954  0022300019  NOV 14, 2023  PHI vs. IND  L   38   11   22   0.500     0     4    0.000   17   17   1.000     3     9   12    6    3    0    5   4   39          -9                1\n",
      "25     22023     203954  0022300180  NOV 12, 2023  PHI vs. IND  W   33   12   26   0.462     1     4    0.250   12   14   0.857     8     5   13    7    1    1    3   2   37          -1                1\n",
      "26     22023     203954  0022300008  NOV 10, 2023    PHI @ DET  W   36    8   21   0.381     1     4    0.250   16   19   0.842     7     9   16    3    0    2    5   3   33           1                1\n",
      "27     22023     203954  0022300159  NOV 08, 2023  PHI vs. BOS  W   37   10   20   0.500     1     4    0.250    6    6   1.000     1     9   10    4    1    4    6   3   27           4                1\n",
      "28     22023     203954  0022300148  NOV 06, 2023  PHI vs. WAS  W   31   17   25   0.680     0     2    0.000   14   14   1.000     2     9   11    6    1    1    1   2   48          15                1\n",
      "29     22023     203954  0022300132  NOV 04, 2023  PHI vs. PHX  W   31    9   18   0.500     3     3    1.000    5    5   1.000     3     8   11    3    0    1    4   2   26           4                1\n",
      "30     22023     203954  0022300128  NOV 02, 2023  PHI vs. TOR  W   35    8   22   0.364     0     2    0.000   12   13   0.923     5     8   13    7    0    1    4   2   28          22                1\n",
      "31     22023     203954  0022300098  OCT 29, 2023  PHI vs. POR  W   29   12   22   0.545     2     4    0.500    9   12   0.750     5    10   15    7    2    6    3   3   35          28                1\n",
      "32     22023     203954  0022300092  OCT 28, 2023    PHI @ TOR  W   35   14   21   0.667     1     3    0.333    5    6   0.833     0     9    9    8    1    2    1   0   34          -2                1\n",
      "33     22023     203954  0022300075  OCT 26, 2023    PHI @ MIL  L   36    9   21   0.429     3     7    0.429    3    8   0.375     0     7    7    6    0    1    7   5   24          -1                1\n"
     ]
    }
   ],
   "source": [
    "from nba_api.stats.static import players\n",
    "from nba_api.stats.endpoints import playercareerstats, playergamelog\n",
    "\n",
    "# Find player ID\n",
    "player_dict = players.get_players()\n",
    "embiid = [player for player in player_dict if player['full_name'] == 'Joel Embiid'][0]\n",
    "embiid_id = embiid['id']\n",
    "\n",
    "# Fetch career statistics\n",
    "career_stats = playercareerstats.PlayerCareerStats(player_id=embiid_id)\n",
    "career_df = career_stats.get_data_frames()[0]\n",
    "\n",
    "# Fetch current season statistics\n",
    "current_season_stats = playergamelog.PlayerGameLog(player_id=embiid_id, season='2023')\n",
    "current_season_df = current_season_stats.get_data_frames()[0]\n",
    "\n",
    "print(\"Joel Embiid's Career Statistics:\")\n",
    "print(career_df)\n",
    "\n",
    "# Print current season statistics\n",
    "print(\"\\nJoel Embiid's Current Season Statistics:\")\n",
    "print(current_season_df)"
   ]
  },
  {
   "cell_type": "markdown",
   "metadata": {},
   "source": [
    "5. Data Analysis\n",
    "One of the general correlation approach we can use to see if how much money teams are spending affects how often they win is to compare their yearly cap space with their win percentage. "
   ]
  },
  {
   "cell_type": "code",
   "execution_count": 6,
   "metadata": {},
   "outputs": [
    {
     "name": "stdout",
     "output_type": "stream",
     "text": [
      "                            OLS Regression Results                            \n",
      "==============================================================================\n",
      "Dep. Variable:                   Win%   R-squared:                       0.204\n",
      "Model:                            OLS   Adj. R-squared:                  0.175\n",
      "Method:                 Least Squares   F-statistic:                     7.168\n",
      "Date:                Tue, 12 Mar 2024   Prob (F-statistic):             0.0123\n",
      "Time:                        00:10:22   Log-Likelihood:                 291.97\n",
      "No. Observations:                  30   AIC:                            -579.9\n",
      "Df Residuals:                      28   BIC:                            -577.1\n",
      "Df Model:                           1                                         \n",
      "Covariance Type:            nonrobust                                         \n",
      "==============================================================================\n",
      "                 coef    std err          t      P>|t|      [0.025      0.975]\n",
      "------------------------------------------------------------------------------\n",
      "const      -6.448e-06   2.13e-05     -0.303      0.764      -5e-05    3.71e-05\n",
      "Total Cap   3.341e-13   1.25e-13      2.677      0.012    7.85e-14     5.9e-13\n",
      "==============================================================================\n",
      "Omnibus:                        3.111   Durbin-Watson:                   2.601\n",
      "Prob(Omnibus):                  0.211   Jarque-Bera (JB):                2.338\n",
      "Skew:                          -0.684   Prob(JB):                        0.311\n",
      "Kurtosis:                       2.982   Cond. No.                     1.33e+09\n",
      "==============================================================================\n",
      "\n",
      "Notes:\n",
      "[1] Standard Errors assume that the covariance matrix of the errors is correctly specified.\n",
      "[2] The condition number is large, 1.33e+09. This might indicate that there are\n",
      "strong multicollinearity or other numerical problems.\n"
     ]
    },
    {
     "data": {
      "image/png": "[encoded data removed]",
      "text/plain": [
       "<Figure size 640x480 with 1 Axes>"
      ]
     },
     "metadata": {},
     "output_type": "display_data"
    }
   ],
   "source": [
    "import statsmodels.api as sm\n",
    "import matplotlib.pyplot as plt\n",
    "\n",
    "# Assuming that \"Win%\" and \"Total Cap\" are columns in your dataframe\n",
    "# Convert \"Total Cap\" to numeric, removing any non-numeric characters\n",
    "df['Total Cap'] = df['Total Cap'].replace('[\\$,]', '', regex=True).astype(float)\n",
    "\n",
    "# Convert \"Win%\" to numeric, removing the '%' sign\n",
    "df['Win%'] = df['Win%'].astype(str)\n",
    "df['Win%'] = df['Win%'].str.rstrip('%').astype('float') / 100.0\n",
    "\n",
    "# Define the dependent variable (y) and the independent variable (X)\n",
    "y = df['Win%']\n",
    "X = df['Total Cap']\n",
    "\n",
    "# Add a constant to the independent variable\n",
    "X = sm.add_constant(X)\n",
    "\n",
    "# Perform the regression\n",
    "model = sm.OLS(y, X)\n",
    "results = model.fit()\n",
    "\n",
    "# Print out the statistics\n",
    "print(results.summary())\n",
    "\n",
    "plt.scatter(X['Total Cap'], y)\n",
    "# Generate the prediction values along the line of best fit\n",
    "y_pred = results.predict(X)\n",
    "# Plot the regression line\n",
    "plt.plot(X['Total Cap'], y_pred, color='red')\n",
    "# Set the labels for the x and y axes\n",
    "plt.xlabel('Total Cap')\n",
    "plt.ylabel('Win%')\n",
    "# Display the plot\n",
    "plt.show()"
   ]
  }
 ],
 "metadata": {
  "kernelspec": {
   "display_name": "Python 3",
   "language": "python",
   "name": "python3"
  },
  "language_info": {
   "codemirror_mode": {
    "name": "ipython",
    "version": 3
   },
   "file_extension": ".py",
   "mimetype": "text/x-python",
   "name": "python",
   "nbconvert_exporter": "python",
   "pygments_lexer": "ipython3",
   "version": "3.9.13"
  }
 },
 "nbformat": 4,
 "nbformat_minor": 2
}
